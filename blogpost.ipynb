{
 "cells": [
  {
   "cell_type": "markdown",
   "metadata": {},
   "source": [
    "TODO:\n",
    "    * add image example to intro\n",
    "    * add links: fast.ai, keras docs\n",
    "    * check the on_epoch_end method: should it not return someth?\n",
    "    * mention that blogpost is also available with runnable code on github\n",
    "    * references: https://medium.com/@johnsondsouza23/export-keras-model-to-protobuf-for-tensorflow-serving-101ad6c65142\n",
    "    * add someth on tf serving model directory\n",
    "    * add someth on tf serving installation"
   ]
  },
  {
   "cell_type": "markdown",
   "metadata": {
    "heading_collapsed": true
   },
   "source": [
    "# Blogpost: training and serving Tensorflow models with tf.Keras"
   ]
  },
  {
   "cell_type": "markdown",
   "metadata": {},
   "source": [
    "# Intro\n",
    "\n",
    "Keras is a high-level interface for neural networks that runs on top of multiple backends. It's functional API is **very user-friendly yet flexible enough** to do lots of cool stuff. Keras quickly gained traction after it's introduction and in 2017, the Keras API was integrated into core Tensorflow as tf.keras. Although tf.keras and Keras have separate code bases, they are tightly coupled and with the updated documentation and programmer guides as of Tensorflow 1.9, tf.keras is clearly the high level API to look for when wiring neural nets on top of Tensorflow. \n",
    "\n",
    "In this blogpost, we will work through the process of training, saving and serving a neural network with tf.keras. As an example, we will train a convolutional neural network on the Kaggle Planet dataset to predict labels for satellite images of the Amazon forest. This is not just a toy dataset, since the goal of the blogpost is to illustrate an end-to-end pipeline for a real-world use case.\n",
    "\n",
    "1. Data preparation\n",
    "2. Training the model with tf.keras.Sequence\n",
    "3. Saving the model\n",
    "4. Serving with tensorflow-serving"
   ]
  },
  {
   "cell_type": "code",
   "execution_count": 1,
   "metadata": {},
   "outputs": [],
   "source": [
    "import matplotlib.pyplot as plt\n",
    "%matplotlib inline"
   ]
  },
  {
   "cell_type": "markdown",
   "metadata": {},
   "source": [
    "# Data preparation"
   ]
  },
  {
   "cell_type": "markdown",
   "metadata": {},
   "source": [
    "The data is available for download [here](https://www.kaggle.com/c/planet-understanding-the-amazon-from-space/data). The training data consists of approximately 40000 labeled images of the Amazon rain forest. Each image is associated with: \n",
    "    * Exactly one out of four possible 'weather' labels: clear, haze, cloudy or partly cloudy\n",
    "    * One or more out of 13 possible 'ground' labels: agriculture, bare_ground, habitation, road, water...  "
   ]
  },
  {
   "cell_type": "markdown",
   "metadata": {},
   "source": [
    "I constructed a Pandas Dataframe with columns for the image names and the weather and ground labels encoded as one-hot binary vectors. The dataframe is available as a .csv file on my githhub:"
   ]
  },
  {
   "cell_type": "code",
   "execution_count": 2,
   "metadata": {
    "scrolled": true
   },
   "outputs": [
    {
     "name": "stderr",
     "output_type": "stream",
     "text": [
      "/home/stijn/venvs/blogpost/local/lib/python2.7/site-packages/pandas/_libs/__init__.py:4: RuntimeWarning: numpy.dtype size changed, may indicate binary incompatibility. Expected 96, got 88\n",
      "  from .tslib import iNaT, NaT, Timestamp, Timedelta, OutOfBoundsDatetime\n",
      "/home/stijn/venvs/blogpost/local/lib/python2.7/site-packages/pandas/__init__.py:26: RuntimeWarning: numpy.dtype size changed, may indicate binary incompatibility. Expected 96, got 88\n",
      "  from pandas._libs import (hashtable as _hashtable,\n",
      "/home/stijn/venvs/blogpost/local/lib/python2.7/site-packages/pandas/core/dtypes/common.py:6: RuntimeWarning: numpy.dtype size changed, may indicate binary incompatibility. Expected 96, got 88\n",
      "  from pandas._libs import algos, lib\n",
      "/home/stijn/venvs/blogpost/local/lib/python2.7/site-packages/pandas/core/util/hashing.py:7: RuntimeWarning: numpy.dtype size changed, may indicate binary incompatibility. Expected 96, got 88\n",
      "  from pandas._libs import hashing, tslib\n",
      "/home/stijn/venvs/blogpost/local/lib/python2.7/site-packages/pandas/core/indexes/base.py:7: RuntimeWarning: numpy.dtype size changed, may indicate binary incompatibility. Expected 96, got 88\n",
      "  from pandas._libs import (lib, index as libindex, tslib as libts,\n",
      "/home/stijn/venvs/blogpost/local/lib/python2.7/site-packages/pandas/tseries/offsets.py:21: RuntimeWarning: numpy.dtype size changed, may indicate binary incompatibility. Expected 96, got 88\n",
      "  import pandas._libs.tslibs.offsets as liboffsets\n",
      "/home/stijn/venvs/blogpost/local/lib/python2.7/site-packages/pandas/core/ops.py:16: RuntimeWarning: numpy.dtype size changed, may indicate binary incompatibility. Expected 96, got 88\n",
      "  from pandas._libs import algos as libalgos, ops as libops\n",
      "/home/stijn/venvs/blogpost/local/lib/python2.7/site-packages/pandas/core/indexes/interval.py:32: RuntimeWarning: numpy.dtype size changed, may indicate binary incompatibility. Expected 96, got 88\n",
      "  from pandas._libs.interval import (\n",
      "/home/stijn/venvs/blogpost/local/lib/python2.7/site-packages/pandas/core/internals.py:14: RuntimeWarning: numpy.dtype size changed, may indicate binary incompatibility. Expected 96, got 88\n",
      "  from pandas._libs import internals as libinternals\n",
      "/home/stijn/venvs/blogpost/local/lib/python2.7/site-packages/pandas/core/sparse/array.py:33: RuntimeWarning: numpy.dtype size changed, may indicate binary incompatibility. Expected 96, got 88\n",
      "  import pandas._libs.sparse as splib\n",
      "/home/stijn/venvs/blogpost/local/lib/python2.7/site-packages/pandas/core/window.py:36: RuntimeWarning: numpy.dtype size changed, may indicate binary incompatibility. Expected 96, got 88\n",
      "  import pandas._libs.window as _window\n",
      "/home/stijn/venvs/blogpost/local/lib/python2.7/site-packages/pandas/core/groupby/groupby.py:68: RuntimeWarning: numpy.dtype size changed, may indicate binary incompatibility. Expected 96, got 88\n",
      "  from pandas._libs import (lib, reduction,\n",
      "/home/stijn/venvs/blogpost/local/lib/python2.7/site-packages/pandas/core/reshape/reshape.py:30: RuntimeWarning: numpy.dtype size changed, may indicate binary incompatibility. Expected 96, got 88\n",
      "  from pandas._libs import algos as _algos, reshape as _reshape\n",
      "/home/stijn/venvs/blogpost/local/lib/python2.7/site-packages/pandas/io/parsers.py:45: RuntimeWarning: numpy.dtype size changed, may indicate binary incompatibility. Expected 96, got 88\n",
      "  import pandas._libs.parsers as parsers\n",
      "/home/stijn/venvs/blogpost/local/lib/python2.7/site-packages/pandas/io/pytables.py:50: RuntimeWarning: numpy.dtype size changed, may indicate binary incompatibility. Expected 96, got 88\n",
      "  from pandas._libs import algos, lib, writers as libwriters\n"
     ]
    },
    {
     "data": {
      "text/html": [
       "<div>\n",
       "<style scoped>\n",
       "    .dataframe tbody tr th:only-of-type {\n",
       "        vertical-align: middle;\n",
       "    }\n",
       "\n",
       "    .dataframe tbody tr th {\n",
       "        vertical-align: top;\n",
       "    }\n",
       "\n",
       "    .dataframe thead th {\n",
       "        text-align: right;\n",
       "    }\n",
       "</style>\n",
       "<table border=\"1\" class=\"dataframe\">\n",
       "  <thead>\n",
       "    <tr style=\"text-align: right;\">\n",
       "      <th></th>\n",
       "      <th>image_name</th>\n",
       "      <th>weather_labels</th>\n",
       "      <th>ground_labels</th>\n",
       "    </tr>\n",
       "  </thead>\n",
       "  <tbody>\n",
       "    <tr>\n",
       "      <th>0</th>\n",
       "      <td>train_0</td>\n",
       "      <td>[0, 0, 1, 0]</td>\n",
       "      <td>[0, 0, 0, 0, 0, 0, 0, 0, 1, 0, 0, 0, 0]</td>\n",
       "    </tr>\n",
       "    <tr>\n",
       "      <th>1</th>\n",
       "      <td>train_1</td>\n",
       "      <td>[1, 0, 0, 0]</td>\n",
       "      <td>[1, 0, 0, 0, 0, 0, 0, 0, 1, 0, 0, 0, 1]</td>\n",
       "    </tr>\n",
       "    <tr>\n",
       "      <th>2</th>\n",
       "      <td>train_2</td>\n",
       "      <td>[1, 0, 0, 0]</td>\n",
       "      <td>[0, 0, 0, 0, 0, 0, 0, 0, 1, 0, 0, 0, 0]</td>\n",
       "    </tr>\n",
       "    <tr>\n",
       "      <th>3</th>\n",
       "      <td>train_3</td>\n",
       "      <td>[1, 0, 0, 0]</td>\n",
       "      <td>[0, 0, 0, 0, 0, 0, 0, 0, 1, 0, 0, 0, 0]</td>\n",
       "    </tr>\n",
       "    <tr>\n",
       "      <th>4</th>\n",
       "      <td>train_4</td>\n",
       "      <td>[1, 0, 0, 0]</td>\n",
       "      <td>[1, 0, 0, 0, 0, 0, 0, 1, 1, 1, 0, 0, 0]</td>\n",
       "    </tr>\n",
       "  </tbody>\n",
       "</table>\n",
       "</div>"
      ],
      "text/plain": [
       "  image_name weather_labels                            ground_labels\n",
       "0    train_0   [0, 0, 1, 0]  [0, 0, 0, 0, 0, 0, 0, 0, 1, 0, 0, 0, 0]\n",
       "1    train_1   [1, 0, 0, 0]  [1, 0, 0, 0, 0, 0, 0, 0, 1, 0, 0, 0, 1]\n",
       "2    train_2   [1, 0, 0, 0]  [0, 0, 0, 0, 0, 0, 0, 0, 1, 0, 0, 0, 0]\n",
       "3    train_3   [1, 0, 0, 0]  [0, 0, 0, 0, 0, 0, 0, 0, 1, 0, 0, 0, 0]\n",
       "4    train_4   [1, 0, 0, 0]  [1, 0, 0, 0, 0, 0, 0, 1, 1, 1, 0, 0, 0]"
      ]
     },
     "execution_count": 2,
     "metadata": {},
     "output_type": "execute_result"
    }
   ],
   "source": [
    "import pandas as pd\n",
    "df_train = pd.read_csv('./KagglePlanetMCML.csv')\n",
    "df_train.head()"
   ]
  },
  {
   "cell_type": "markdown",
   "metadata": {},
   "source": [
    "The goal is to train a model that can accurately predict these labels for new images. We'll try to do this with a network that has two separate outputs for the weather and the ground labels. Predicting the weather labels is an example of a multi-class classification problem, whereas the ground labels can be modelled as a multi-label classification problem. Therefore, the loss function for both outputs will be different."
   ]
  },
  {
   "cell_type": "markdown",
   "metadata": {},
   "source": [
    "# Specifying the model"
   ]
  },
  {
   "cell_type": "markdown",
   "metadata": {},
   "source": [
    " Since this is a computer vision problem, we will use a convolutional neural network. As it turned out during the Kaggle competition, transfer learning with large pretrained networks was one of the keys to success. This is not the focus here, so we will build our own model from scratch. I'm going for a fairly classical configuration with some convolutional layers and relu activations and won't dwell on anything. For tips on how to achieve a top-of-the-leaderboard performance, check out the great fast.ai lecture that handles this dataset."
   ]
  },
  {
   "cell_type": "code",
   "execution_count": 3,
   "metadata": {},
   "outputs": [
    {
     "name": "stderr",
     "output_type": "stream",
     "text": [
      "/home/stijn/venvs/blogpost/local/lib/python2.7/site-packages/h5py/__init__.py:36: RuntimeWarning: numpy.dtype size changed, may indicate binary incompatibility. Expected 96, got 88\n",
      "  from ._conv import register_converters as _register_converters\n",
      "/home/stijn/venvs/blogpost/local/lib/python2.7/site-packages/h5py/__init__.py:45: RuntimeWarning: numpy.dtype size changed, may indicate binary incompatibility. Expected 96, got 88\n",
      "  from . import h5a, h5d, h5ds, h5f, h5fd, h5g, h5r, h5s, h5t, h5p, h5z\n",
      "/home/stijn/venvs/blogpost/local/lib/python2.7/site-packages/h5py/_hl/group.py:22: RuntimeWarning: numpy.dtype size changed, may indicate binary incompatibility. Expected 96, got 88\n",
      "  from .. import h5g, h5i, h5o, h5r, h5t, h5l, h5p\n",
      "/home/stijn/venvs/blogpost/local/lib/python2.7/site-packages/scipy/sparse/lil.py:19: RuntimeWarning: numpy.dtype size changed, may indicate binary incompatibility. Expected 96, got 88\n",
      "  from . import _csparsetools\n",
      "/home/stijn/venvs/blogpost/local/lib/python2.7/site-packages/scipy/sparse/csgraph/__init__.py:165: RuntimeWarning: numpy.dtype size changed, may indicate binary incompatibility. Expected 96, got 88\n",
      "  from ._shortest_path import shortest_path, floyd_warshall, dijkstra,\\\n",
      "/home/stijn/venvs/blogpost/local/lib/python2.7/site-packages/scipy/sparse/csgraph/_validation.py:5: RuntimeWarning: numpy.dtype size changed, may indicate binary incompatibility. Expected 96, got 88\n",
      "  from ._tools import csgraph_to_dense, csgraph_from_dense,\\\n",
      "/home/stijn/venvs/blogpost/local/lib/python2.7/site-packages/scipy/sparse/csgraph/__init__.py:167: RuntimeWarning: numpy.dtype size changed, may indicate binary incompatibility. Expected 96, got 88\n",
      "  from ._traversal import breadth_first_order, depth_first_order, \\\n",
      "/home/stijn/venvs/blogpost/local/lib/python2.7/site-packages/scipy/sparse/csgraph/__init__.py:169: RuntimeWarning: numpy.dtype size changed, may indicate binary incompatibility. Expected 96, got 88\n",
      "  from ._min_spanning_tree import minimum_spanning_tree\n",
      "/home/stijn/venvs/blogpost/local/lib/python2.7/site-packages/scipy/sparse/csgraph/__init__.py:170: RuntimeWarning: numpy.dtype size changed, may indicate binary incompatibility. Expected 96, got 88\n",
      "  from ._reordering import reverse_cuthill_mckee, maximum_bipartite_matching, \\\n",
      "/home/stijn/venvs/blogpost/local/lib/python2.7/site-packages/scipy/linalg/basic.py:17: RuntimeWarning: numpy.dtype size changed, may indicate binary incompatibility. Expected 96, got 88\n",
      "  from ._solve_toeplitz import levinson\n",
      "/home/stijn/venvs/blogpost/local/lib/python2.7/site-packages/scipy/linalg/__init__.py:207: RuntimeWarning: numpy.dtype size changed, may indicate binary incompatibility. Expected 96, got 88\n",
      "  from ._decomp_update import *\n",
      "/home/stijn/venvs/blogpost/local/lib/python2.7/site-packages/scipy/special/__init__.py:640: RuntimeWarning: numpy.dtype size changed, may indicate binary incompatibility. Expected 96, got 88\n",
      "  from ._ufuncs import *\n",
      "/home/stijn/venvs/blogpost/local/lib/python2.7/site-packages/scipy/special/_ellip_harm.py:7: RuntimeWarning: numpy.dtype size changed, may indicate binary incompatibility. Expected 96, got 88\n",
      "  from ._ellip_harm_2 import _ellipsoid, _ellipsoid_norm\n",
      "/home/stijn/venvs/blogpost/local/lib/python2.7/site-packages/scipy/interpolate/_bsplines.py:10: RuntimeWarning: numpy.dtype size changed, may indicate binary incompatibility. Expected 96, got 88\n",
      "  from . import _bspl\n",
      "/home/stijn/venvs/blogpost/local/lib/python2.7/site-packages/scipy/spatial/__init__.py:95: RuntimeWarning: numpy.dtype size changed, may indicate binary incompatibility. Expected 96, got 88\n",
      "  from .ckdtree import *\n",
      "/home/stijn/venvs/blogpost/local/lib/python2.7/site-packages/scipy/spatial/__init__.py:96: RuntimeWarning: numpy.dtype size changed, may indicate binary incompatibility. Expected 96, got 88\n",
      "  from .qhull import *\n",
      "/home/stijn/venvs/blogpost/local/lib/python2.7/site-packages/scipy/spatial/_spherical_voronoi.py:18: RuntimeWarning: numpy.dtype size changed, may indicate binary incompatibility. Expected 96, got 88\n",
      "  from . import _voronoi\n",
      "/home/stijn/venvs/blogpost/local/lib/python2.7/site-packages/scipy/spatial/distance.py:122: RuntimeWarning: numpy.dtype size changed, may indicate binary incompatibility. Expected 96, got 88\n",
      "  from . import _hausdorff\n",
      "/home/stijn/venvs/blogpost/local/lib/python2.7/site-packages/scipy/ndimage/measurements.py:36: RuntimeWarning: numpy.dtype size changed, may indicate binary incompatibility. Expected 96, got 88\n",
      "  from . import _ni_label\n"
     ]
    }
   ],
   "source": [
    "import tensorflow as tf\n",
    "IM_SIZE = 16\n",
    "\n",
    "image_input = tf.keras.Input(shape=(IM_SIZE, IM_SIZE, 3))\n",
    "\n",
    "# Some convolutional layers\n",
    "conv_1 = tf.keras.layers.Conv2D(32,\n",
    "                                kernel_size=(3, 3),\n",
    "                                padding='same',\n",
    "                                activation='relu')(image_input)\n",
    "conv_1 = tf.keras.layers.MaxPooling2D(padding='same')(conv_1)\n",
    "conv_2 = tf.keras.layers.Conv2D(32,\n",
    "                                kernel_size=(3, 3),\n",
    "                                padding='same',\n",
    "                                activation='relu')(conv_1)\n",
    "conv_2 = tf.keras.layers.MaxPooling2D(padding='same')(conv_2)\n",
    "\n",
    "# Flatten the output of the convolutional layers\n",
    "conv_flat = tf.keras.layers.Flatten()(conv_2)\n",
    "\n",
    "# Some dense layers with two separate outputs\n",
    "fc_1 = tf.keras.layers.Dense(128,\n",
    "                             activation='relu')(conv_flat)\n",
    "fc_1 = tf.keras.layers.Dropout(0.2)(fc_1)\n",
    "fc_2 = tf.keras.layers.Dense(128,\n",
    "                             activation='relu')(fc_1)\n",
    "fc_2 = tf.keras.layers.Dropout(0.2)(fc_2)\n",
    "\n",
    "# Output layers: separate outputs for the weather and the ground labels\n",
    "weather_output = tf.keras.layers.Dense(4,\n",
    "                                       activation='softmax',\n",
    "                                       name='weather')(fc_2)\n",
    "ground_output = tf.keras.layers.Dense(13,\n",
    "                                      activation='sigmoid',\n",
    "                                      name='ground')(fc_2)"
   ]
  },
  {
   "cell_type": "markdown",
   "metadata": {},
   "source": [
    "We have two output layers, so these should be passed as a list of outputs when specifying the Model. Likewise, we can pass the two separate loss functions as a dictionary (or a list) when compiling the model. Conveniently, the tf.keras Model implementation comes with the extremely handy summary() method:"
   ]
  },
  {
   "cell_type": "code",
   "execution_count": 4,
   "metadata": {},
   "outputs": [
    {
     "name": "stdout",
     "output_type": "stream",
     "text": [
      "__________________________________________________________________________________________________\n",
      "Layer (type)                    Output Shape         Param #     Connected to                     \n",
      "==================================================================================================\n",
      "input_1 (InputLayer)            (None, 16, 16, 3)    0                                            \n",
      "__________________________________________________________________________________________________\n",
      "conv2d (Conv2D)                 (None, 16, 16, 32)   896         input_1[0][0]                    \n",
      "__________________________________________________________________________________________________\n",
      "max_pooling2d (MaxPooling2D)    (None, 8, 8, 32)     0           conv2d[0][0]                     \n",
      "__________________________________________________________________________________________________\n",
      "conv2d_1 (Conv2D)               (None, 8, 8, 32)     9248        max_pooling2d[0][0]              \n",
      "__________________________________________________________________________________________________\n",
      "max_pooling2d_1 (MaxPooling2D)  (None, 4, 4, 32)     0           conv2d_1[0][0]                   \n",
      "__________________________________________________________________________________________________\n",
      "flatten (Flatten)               (None, 512)          0           max_pooling2d_1[0][0]            \n",
      "__________________________________________________________________________________________________\n",
      "dense (Dense)                   (None, 128)          65664       flatten[0][0]                    \n",
      "__________________________________________________________________________________________________\n",
      "dropout (Dropout)               (None, 128)          0           dense[0][0]                      \n",
      "__________________________________________________________________________________________________\n",
      "dense_1 (Dense)                 (None, 128)          16512       dropout[0][0]                    \n",
      "__________________________________________________________________________________________________\n",
      "dropout_1 (Dropout)             (None, 128)          0           dense_1[0][0]                    \n",
      "__________________________________________________________________________________________________\n",
      "weather (Dense)                 (None, 4)            516         dropout_1[0][0]                  \n",
      "__________________________________________________________________________________________________\n",
      "ground (Dense)                  (None, 13)           1677        dropout_1[0][0]                  \n",
      "==================================================================================================\n",
      "Total params: 94,513\n",
      "Trainable params: 94,513\n",
      "Non-trainable params: 0\n",
      "__________________________________________________________________________________________________\n",
      "None\n"
     ]
    }
   ],
   "source": [
    "model = tf.keras.Model(inputs=image_input, outputs=[weather_output, ground_output])\n",
    "print(model.summary())"
   ]
  },
  {
   "cell_type": "markdown",
   "metadata": {},
   "source": [
    "Upon compiling the model, the two different loss functions can be provided as a dictionary that maps tensor names to losses:"
   ]
  },
  {
   "cell_type": "code",
   "execution_count": 5,
   "metadata": {
    "code_folding": []
   },
   "outputs": [],
   "source": [
    "model.compile(optimizer='adam',\n",
    "              loss={'weather': 'categorical_crossentropy',\n",
    "                    'ground': 'binary_crossentropy'})"
   ]
  },
  {
   "cell_type": "markdown",
   "metadata": {},
   "source": [
    "# Training the model"
   ]
  },
  {
   "cell_type": "markdown",
   "metadata": {},
   "source": [
    "Let's train the model! I will be training this model on my laptop, which does not have enough RAM to take the entire dataset into memory. With image data, this is very often the case. Keras provides the ```fit_generator()``` method that can use a custom Python generator yielding images from disc for training. However, as of Keras 2.0.6, we can use the ```Sequence``` object instead of a generator which allows for safe multiprocessing which means significant speedups and less risk of bottlenecking your GPU if you have one. The Keras documentation already provides good example code, which I will customize a bit to:\n",
    "* make it work with a dataframe that maps image names to labels\n",
    "* shuffle the training data after every epoch\n",
    "* handle a final batch that is smaller than the actual batch size"
   ]
  },
  {
   "cell_type": "code",
   "execution_count": 6,
   "metadata": {},
   "outputs": [],
   "source": [
    "import ast\n",
    "import os\n",
    "import numpy as np\n",
    "import random\n",
    "from math import ceil\n",
    "from tensorflow.keras.preprocessing.image import img_to_array as img_to_array\n",
    "from tensorflow.keras.preprocessing.image import load_img as load_img"
   ]
  },
  {
   "cell_type": "code",
   "execution_count": 7,
   "metadata": {},
   "outputs": [],
   "source": [
    "class KagglePlanetSequence(tf.keras.utils.Sequence):\n",
    "    \"\"\"\n",
    "    Custom Sequence object to train a model on out-of-memory datasets. \n",
    "    \"\"\"\n",
    "    def __init__(self, df_path, data_path, im_size, batch_size, mode='train'):\n",
    "        \"\"\"\n",
    "        df_path: path to a .csv file that contains columns with image names and labels\n",
    "        data_path: path that contains the training images\n",
    "        im_size: image size\n",
    "        mode: when in training mode, data will be shuffled between epochs\n",
    "        \"\"\"\n",
    "        self.df = pd.read_csv(df_path).iloc[:500,:]\n",
    "        self.dp = data_path\n",
    "        self.imsz = im_size\n",
    "        self.bsz = batch_size\n",
    "        self.mode = mode\n",
    "\n",
    "        # Take labels and a list of image locations in memory\n",
    "        self.wlabels = [ast.literal_eval(v) for v in self.df['weather_labels'].values]\n",
    "        self.glabels = [ast.literal_eval(v) for v in self.df['ground_labels'].values]\n",
    "        self.im_list = [os.path.join(self.dp, im + '.jpg') for im in self.df['image_name'].values]\n",
    "\n",
    "    def __len__(self):\n",
    "        return ceil(len(self.df) / self.bsz)\n",
    "\n",
    "    def on_epoch_end(self):\n",
    "        # Shuffles indexes after each epoch\n",
    "        self.indexes = range(len(self.im_list))\n",
    "        if self.mode == 'train':\n",
    "            self.indexes = random.sample(self.indexes, k=len(self.indexes))\n",
    "\n",
    "    def get_batch_labels(self, idx):\n",
    "        if idx == self.__len__() / self.bsz:\n",
    "            return [self.wlabels[idx * self.bsz:], self.glabels[idx * self.bsz:]]\n",
    "        return [self.wlabels[idx * self.bsz: (idx + 1) * self.bsz], self.glabels[idx * self.bsz: (idx + 1) * self.bsz]]\n",
    "\n",
    "    def get_batch_features(self, idx):\n",
    "        if idx == self.__len__() / self.bsz:\n",
    "            return [img_to_array(load_img(im, target_size=(self.imsz, self.imsz))) / 255. for im in self.im_list[idx * self.bsz:]]\n",
    "        return np.array([img_to_array(load_img(im, target_size=(self.imsz, self.imsz))) / 255. for im in self.im_list[idx * self.bsz: (1 + idx) * self.bsz]])\n",
    "\n",
    "    def __getitem__(self, idx):\n",
    "        batch_x = self.get_batch_features(idx)\n",
    "        batch_y = self.get_batch_labels(idx)\n",
    "        return batch_x, batch_y\n",
    "    \n",
    "BATCH_SIZE = 32\n",
    "seq = KagglePlanetSequence('./KagglePlanetMCML.csv',\n",
    "                       './data/train/',\n",
    "                       im_size=IM_SIZE,\n",
    "                       batch_size=32)"
   ]
  },
  {
   "cell_type": "markdown",
   "metadata": {},
   "source": [
    "This ```Sequence``` object can be used instead of a custom generator together with ```fit_generator()``` to train the model. ```tf.keras``` provides access to all the Keras Callbacks that enhance the training loop. If you evaluate the after each epoch on validation data (which you should do), these can be quite powerful and provide options for early stopping, storing only that version of the model that does not overfit et cetera. Here, we will use the ModelCheckPoint callback just to save the model after every epoch so that we can pick up training afterwards if we want. By default, the model architecture, training configuration, state of the optimizer and the weights are stored, such that the entire model can be recreated from a single file.\n",
    "\n",
    "Let's train the model for 3 epochs!"
   ]
  },
  {
   "cell_type": "code",
   "execution_count": 13,
   "metadata": {},
   "outputs": [
    {
     "name": "stdout",
     "output_type": "stream",
     "text": [
      "Epoch 1/2\n",
      "14/15 [===========================>..] - ETA: 0s - loss: 0.9362 - weather_loss: 0.7047 - ground_loss: 0.2316\n",
      "Epoch 00001: saving model to ./model_weights.h5\n",
      "\n",
      "Epoch 00001: saving model to ./model.h5\n",
      "15/15 [==============================] - 1s 61ms/step - loss: 0.9289 - weather_loss: 0.7005 - ground_loss: 0.2284\n",
      "Epoch 2/2\n",
      "12/15 [=======================>......] - ETA: 0s - loss: 0.9007 - weather_loss: 0.6728 - ground_loss: 0.2279\n",
      "Epoch 00002: saving model to ./model_weights.h5\n",
      "\n",
      "Epoch 00002: saving model to ./model.h5\n",
      "15/15 [==============================] - 1s 61ms/step - loss: 0.9176 - weather_loss: 0.6903 - ground_loss: 0.2272\n"
     ]
    },
    {
     "data": {
      "text/plain": [
       "<tensorflow.python.keras.callbacks.History at 0x7f10e4036490>"
      ]
     },
     "execution_count": 13,
     "metadata": {},
     "output_type": "execute_result"
    }
   ],
   "source": [
    "callbacks = [\n",
    "    tf.keras.callbacks.ModelCheckpoint('./model_weights.h5',verbose=1, save_weights_only=True),\n",
    "    tf.keras.callbacks.ModelCheckpoint('./model.h5', verbose=1)\n",
    "]\n",
    "\n",
    "model.fit_generator(generator=seq,\n",
    "                    verbose=1, \n",
    "                    epochs=2,\n",
    "                    use_multiprocessing=True,\n",
    "                    workers=4,\n",
    "                    callbacks=callbacks)"
   ]
  },
  {
   "cell_type": "markdown",
   "metadata": {},
   "source": [
    "Suppose that we want to finetune the model in a later stage, we can simply read the model file and pick up training even without explicitly recompiling:"
   ]
  },
  {
   "cell_type": "code",
   "execution_count": 14,
   "metadata": {},
   "outputs": [
    {
     "name": "stdout",
     "output_type": "stream",
     "text": [
      "Epoch 1/2\n",
      "15/15 [==============================] - 2s 108ms/step - loss: 0.8870 - weather_loss: 0.6631 - ground_loss: 0.2239\n",
      "Epoch 2/2\n",
      "15/15 [==============================] - 2s 105ms/step - loss: 0.9127 - weather_loss: 0.6868 - ground_loss: 0.2260\n"
     ]
    },
    {
     "data": {
      "text/plain": [
       "<tensorflow.python.keras.callbacks.History at 0x7f10e4060a10>"
      ]
     },
     "execution_count": 14,
     "metadata": {},
     "output_type": "execute_result"
    }
   ],
   "source": [
    "another_model = tf.keras.models.load_model('./model.h5')\n",
    "another_model.fit_generator(generator=seq,\n",
    "                    verbose=1, \n",
    "                    epochs=2)"
   ]
  },
  {
   "cell_type": "markdown",
   "metadata": {},
   "source": [
    "Note the increase of the training time when multiprocessing is disabled."
   ]
  },
  {
   "cell_type": "markdown",
   "metadata": {},
   "source": [
    "# Exporting the model"
   ]
  },
  {
   "cell_type": "markdown",
   "metadata": {},
   "source": [
    "Now that we have a trained model, want to export it for serving."
   ]
  },
  {
   "cell_type": "code",
   "execution_count": 15,
   "metadata": {
    "scrolled": false
   },
   "outputs": [
    {
     "name": "stdout",
     "output_type": "stream",
     "text": [
      "INFO:tensorflow:No assets to save.\n",
      "INFO:tensorflow:No assets to write.\n",
      "INFO:tensorflow:SavedModel written to: ./models/1/saved_model.pb\n"
     ]
    }
   ],
   "source": [
    "import tensorflow as tf\n",
    "from tensorflow.python.saved_model import builder as saved_model_builder\n",
    "from tensorflow.python.saved_model.signature_def_utils_impl import predict_signature_def\n",
    "from tensorflow.python.saved_model import tag_constants\n",
    "\n",
    "tf.keras.backend.set_learning_phase(0)    \n",
    "model = tf.keras.models.load_model('./model.h5')\n",
    "export_path = './models/1'\n",
    "\n",
    "builder = saved_model_builder.SavedModelBuilder(export_path)\n",
    "signature = predict_signature_def(inputs={'images': model.input},\n",
    "                    outputs={t.name:t for t in model.outputs})    \n",
    "key = tf.saved_model.signature_constants.DEFAULT_SERVING_SIGNATURE_DEF_KEY\n",
    "\n",
    "with tf.keras.backend.get_session() as sess:\n",
    "    builder.add_meta_graph_and_variables(sess=sess,\n",
    "                                 tags=[tag_constants.SERVING],\n",
    "                                 signature_def_map={key: signature})\n",
    "    \n",
    "    builder.save()   "
   ]
  },
  {
   "cell_type": "markdown",
   "metadata": {},
   "source": [
    "# 4. Host and call the model server"
   ]
  },
  {
   "cell_type": "markdown",
   "metadata": {},
   "source": [
    " A good option is [TensorFlow Serving](https://www.tensorflow.org/serving/):\n",
    "> TensorFlow Serving is a flexible, high-performance serving system for machine learning models, designed for production environments. \n",
    "\n",
    "```Servables``` are the key object in TensorFlow serving. Apart from that, TF Serving provides Loaders and Managers that handle the actual serving, loading of new versions and unloading of old versions.\n",
    "\n",
    "As of TensorFlow serving 1.9, it's possible to make call a hosted model via either gRPC or a REST request. There are quite some tutorials online on how to make gRPC request, we will try doing a REST request here. \n",
    "\n",
    "First of all, I'd like to highlight TensorFlow's `SavedModel` command line tool, which is useful to quickly inspect the input and output specifications of our Model:\n",
    "\n",
    "```\n",
    "$ saved_model_cli show --dir ./ --tag_set serve --signature_def serving_default\n",
    "\n",
    "The given SavedModel SignatureDef contains the following input(s):\n",
    "  inputs['images'] tensor_info:\n",
    "      dtype: DT_FLOAT\n",
    "      shape: (-1, 16, 16, 3)\n",
    "      name: input_1_5:0\n",
    "The given SavedModel SignatureDef contains the following output(s):\n",
    "  outputs['ground_5/Sigmoid:0'] tensor_info:\n",
    "      dtype: DT_FLOAT\n",
    "      shape: (-1, 13)\n",
    "      name: ground_5/Sigmoid:0\n",
    "  outputs['weather_5/Softmax:0'] tensor_info:\n",
    "      dtype: DT_FLOAT\n",
    "      shape: (-1, 4)\n",
    "      name: weather_5/Softmax:0\n",
    "Method name is: tensorflow/serving/predict\n",
    "```\n"
   ]
  },
  {
   "cell_type": "markdown",
   "metadata": {},
   "source": [
    "We even have access to ```numpy``` within the CLI (as ```np```) to send some random input to the model to verify that it works:\n",
    "\n",
    "```\n",
    "$ saved_model_cli run --dir ./ --tag_set serve --signature_def serving_default --input_exp 'images=np.random.rand(1,16,16,3)'\n",
    "\n",
    "Result for output key ground_5/Sigmoid:0:\n",
    "[[1.2893094e-01 6.4332830e-04 1.3402618e-03 7.4971933e-04 3.6600672e-05\n",
    "  1.3365776e-04 2.2603733e-02 1.7313704e-02 9.9981135e-01 8.8962197e-02\n",
    "  4.4833246e-04 2.0555612e-04 8.2832985e-02]]\n",
    "Result for output key weather_5/Softmax:0:\n",
    "[[9.3750894e-01 1.9014442e-06 1.9851823e-05 6.2469237e-02]]\n",
    "\n",
    "```\n",
    "\n",
    "Seems to work. Let's host the model from the model directory (some of the output below is truncated for visibility):\n",
    "\n",
    "```\n",
    "$ tensorflow_model_server --model_base_path=$(pwd) --rest_api_port=9000 --model_name=models\n",
    "\n",
    "...\n",
    "I tensorflow_serving/core/basic_manager] Successfully reserved resources to load servable {name: models version: 1}\n",
    "I tensorflow_serving/core/loader_harness] Approving load for servable version {name: models version: 1}\n",
    "I tensorflow_serving/core/loader_harness] Loading servable version {name: models version: 1}\n",
    "I external/org_tensorflow/tensorflow/cc/saved_model/loader] SavedModel load for tags { serve }; Status: success. Took 883423 microseconds.\n",
    "I tensorflow_serving/core/loader_harness] Successfully loaded servable version {name: models version: 1}\n",
    "...\n",
    "I tensorflow_serving/model_servers/main] Exporting HTTP/REST API at:localhost:9000 ...\n",
    "\n",
    "```"
   ]
  },
  {
   "cell_type": "markdown",
   "metadata": {},
   "source": [
    "Finally, we can send requests to our server via the python `request` module:   "
   ]
  },
  {
   "cell_type": "code",
   "execution_count": 66,
   "metadata": {
    "scrolled": false
   },
   "outputs": [],
   "source": [
    "import requests\n",
    "import json\n",
    "\n",
    "image = img_to_array(load_img('./data/train/train_10001.jpg', target_size=(16,16))) / 255.\n",
    "payload = {\n",
    "  \"instances\": [{'images': image.tolist()}]\n",
    "}\n",
    "r = requests.post('http://localhost:9000/v1/models/models:predict', json=payload)"
   ]
  },
  {
   "cell_type": "code",
   "execution_count": 67,
   "metadata": {},
   "outputs": [
    {
     "data": {
      "text/plain": [
       "{u'predictions': [{u'ground_2/Sigmoid:0': [0.227877,\n",
       "    0.00829674,\n",
       "    0.0240078,\n",
       "    0.00906727,\n",
       "    0.00227873,\n",
       "    0.00150585,\n",
       "    0.0815054,\n",
       "    0.0819165,\n",
       "    0.994118,\n",
       "    0.146202,\n",
       "    0.0131724,\n",
       "    0.00499781,\n",
       "    0.125618],\n",
       "   u'weather_2/Softmax:0': [0.906566, 0.000451428, 0.00264539, 0.0903377]}]}"
      ]
     },
     "execution_count": 67,
     "metadata": {},
     "output_type": "execute_result"
    }
   ],
   "source": [
    "json.loads(r.content)"
   ]
  },
  {
   "cell_type": "code",
   "execution_count": 68,
   "metadata": {},
   "outputs": [
    {
     "data": {
      "text/plain": [
       "<matplotlib.image.AxesImage at 0x7f10be984750>"
      ]
     },
     "execution_count": 68,
     "metadata": {},
     "output_type": "execute_result"
    },
    {
     "data": {
      "image/png": "[encoded data removed]",
      "text/plain": [
       "<Figure size 432x288 with 1 Axes>"
      ]
     },
     "metadata": {},
     "output_type": "display_data"
    }
   ],
   "source": [
    "fig, ax = plt.subplots()\n",
    "ax.imshow(image)"
   ]
  }
 ],
 "metadata": {
  "kernelspec": {
   "display_name": "Python 3.6 (blogpost)",
   "language": "python",
   "name": "blogpost"
  },
  "language_info": {
   "codemirror_mode": {
    "name": "ipython",
    "version": 2
   },
   "file_extension": ".py",
   "mimetype": "text/x-python",
   "name": "python",
   "nbconvert_exporter": "python",
   "pygments_lexer": "ipython2",
   "version": "2.7.12"
  },
  "toc": {
   "nav_menu": {},
   "number_sections": true,
   "sideBar": true,
   "skip_h1_title": false,
   "title_cell": "Table of Contents",
   "title_sidebar": "Contents",
   "toc_cell": false,
   "toc_position": {},
   "toc_section_display": true,
   "toc_window_display": false
  }
 },
 "nbformat": 4,
 "nbformat_minor": 2
}
